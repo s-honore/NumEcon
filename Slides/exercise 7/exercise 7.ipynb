{
 "cells": [
  {
   "cell_type": "markdown",
   "id": "altered-rehabilitation",
   "metadata": {
    "slideshow": {
     "slide_type": "slide"
    }
   },
   "source": [
    "<img src=\"ku_logo_uk_v.png\" alt=\"drawing\" width=\"130\" style=\"float:right\"/>\n",
    "\n",
    "# <span style=\"color:#2c061f\"> Exercise 7 </span>  \n",
    "\n",
    "<br>\n",
    "\n",
    "## <span style=\"color:#374045\"> Introduction to Programming and Numerical Analysis </span>\n",
    "\n",
    "\n",
    "####  <span style=\"color:#d89216\"> <br> Sebastian Honoré </span>"
   ]
  },
  {
   "cell_type": "markdown",
   "id": "delayed-russia",
   "metadata": {
    "slideshow": {
     "slide_type": "subslide"
    }
   },
   "source": [
    "## Plan for today\n",
    "<br>\n",
    "\n",
    "1. Welcome\n",
    "2. Inaugural project revisited\n",
    "3. split-apply-combine\n",
    "4. Problemset 4\n",
    "5. <span style=\"color:#FFCA4F\"> Easter Vacay </span>"
   ]
  },
  {
   "cell_type": "markdown",
   "id": "overhead-friendship",
   "metadata": {
    "slideshow": {
     "slide_type": "subslide"
    }
   },
   "source": [
    "# 2.1 Inaugural project revisited\n",
    "\n",
    "- Overall very nice projects! \n",
    "- All of you should have received feedback on your alumni mail. \n",
    "    - If not please reach out\n",
    "    \n",
    "- To consider: \n",
    "    - Don't print overly long sentences. Markdown is your friend here. \n",
    "    - When you are done with a code project and ready to hand-in: `Restart kernel and run all cells`\n",
    "        - Ensures that your code runs smoothly and doesn't throw any error\n"
   ]
  },
  {
   "cell_type": "markdown",
   "id": "aging-implement",
   "metadata": {
    "slideshow": {
     "slide_type": "subslide"
    }
   },
   "source": [
    "# 2.2 Comments on question 5\n",
    "\n",
    "Cookbook: \n",
    "- Define an objective function that indicates how far off we are from equalizing tax revenues in the two tax schemes. Inside function: \n",
    "    - Update $\\tau^g$\n",
    "    - $\\tau^g$ affects the user-cost of housing and leaves less income for consumption\n",
    "        - Therefore optimize housing (as in question 1) \n",
    "    - Calculate tax revenue as in question 3\n",
    "    - Calculate difference between tax (target) revenue in question 3 and current taxes\n",
    "    - Return the difference\n",
    "    \n",
    "- Essentially this procedure implies two optimizations"
   ]
  },
  {
   "cell_type": "markdown",
   "id": "generous-entry",
   "metadata": {
    "slideshow": {
     "slide_type": "subslide"
    }
   },
   "source": [
    "# 2.3 Question 5 continued\n",
    "\n",
    "What you may consider is to use SciPy's [root optimizer](https://docs.scipy.org/doc/scipy/reference/generated/scipy.optimize.root.html). Why? \n",
    "\n",
    "- Optimization is used when we want to maximize/minimize a given function i.e. $\\frac{df(x)}{dx}=0$\n",
    "- root optimization is used when want to find the root i.e. the zero of a function ($f(x)=0$)\n",
    "    - In this case we want the difference between tax target and new taxes to be zero. \n",
    "- Look through the suggested solution on GitHub! "
   ]
  },
  {
   "cell_type": "markdown",
   "id": "valued-hormone",
   "metadata": {
    "slideshow": {
     "slide_type": "subslide"
    }
   },
   "source": [
    "# 3.1 Split-apply-combine method\n",
    "\n",
    "Very often used method in data analysis. Essentially: \n",
    "- Split data into subgroups\n",
    "- Apply some function on groups\n",
    "- Combine with data again\n",
    "\n",
    "See christians great walk-through [here](https://absalon.ku.dk/courses/46547/external_tools/14563) or in Absalons media gallery. If you like it in text read [this](https://towardsdatascience.com/how-to-use-the-split-apply-combine-strategy-in-pandas-groupby-29e0eb44b62e). "
   ]
  },
  {
   "cell_type": "markdown",
   "id": "formed-subject",
   "metadata": {
    "slideshow": {
     "slide_type": "subslide"
    }
   },
   "source": [
    "# 3.2 Conceptual example\n",
    "Say, we have income data sampled on municipality and year. We want to see how income fluctuates around the average income across municipalities. How do we do this?\n",
    "\n",
    "- First we group the data by municipality (`df.groupby(\"municipality\")`)\n",
    "- Apply a function that calculates the mean income across years. Could be a lambda function or through column operations. (`df.groupby(\"municipality\").income.apply(lambda x: ...)`) \n",
    "- Combine datasets (`df.set_index('municipality').join(NAME OF DF, how='left)`)"
   ]
  },
  {
   "cell_type": "markdown",
   "id": "treated-basketball",
   "metadata": {
    "slideshow": {
     "slide_type": "subslide"
    }
   },
   "source": [
    "<img src=\"easter.gif\" width=\"500\" style=\"float:right\">\n",
    "\n",
    "# 4 Problemset 4\n",
    "\n",
    "Lets go! your time to work with the pyDST API and split-apply-combine methods. \n",
    "\n",
    "As always ask for help in general. "
   ]
  }
 ],
 "metadata": {
  "celltoolbar": "Slideshow",
  "kernelspec": {
   "display_name": "Python 3",
   "language": "python",
   "name": "python3"
  },
  "language_info": {
   "codemirror_mode": {
    "name": "ipython",
    "version": 3
   },
   "file_extension": ".py",
   "mimetype": "text/x-python",
   "name": "python",
   "nbconvert_exporter": "python",
   "pygments_lexer": "ipython3",
   "version": "3.8.8"
  }
 },
 "nbformat": 4,
 "nbformat_minor": 5
}
