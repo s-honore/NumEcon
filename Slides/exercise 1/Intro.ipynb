{
 "cells": [
  {
   "cell_type": "markdown",
   "metadata": {
    "slideshow": {
     "slide_type": "slide"
    }
   },
   "source": [
    "<img src=\"ku_logo_uk_v.png\" alt=\"drawing\" width=\"130\" style=\"float:right\"/>\n",
    "\n",
    "# <span style=\"color:#2c061f\"> Intro class </span>  \n",
    "\n",
    "<br>\n",
    "\n",
    "## <span style=\"color:#374045\"> Introduction to Programming and Numerical Analysis </span>\n",
    "\n",
    "\n",
    "####  <span style=\"color:#d89216\"> <br> Sebastian Honoré </span>"
   ]
  },
  {
   "cell_type": "markdown",
   "metadata": {
    "slideshow": {
     "slide_type": "subslide"
    }
   },
   "source": [
    "## Plan for today\n",
    "<br>\n",
    "\n",
    "0. Welcome\n",
    "1. About me\n",
    "2. Plan for Teams\n",
    "3. Getting help\n",
    "4. Exercise plan"
   ]
  },
  {
   "cell_type": "markdown",
   "metadata": {
    "slideshow": {
     "slide_type": "subslide"
    }
   },
   "source": [
    "## About me\n",
    "\n",
    "**Full Name:** Sebastian Honoré\n",
    "\n",
    "**Study:** Third semester MSc Economic \n",
    "\n",
    "**Current position:** Research Assistant @ \"the dark side\" a.k.a. CBS\n",
    "\n",
    "**Research interests:** \n",
    "- Cultural policy\n",
    "- Applications of machine learning in economics\n",
    "- Causal modelling"
   ]
  },
  {
   "cell_type": "markdown",
   "metadata": {
    "slideshow": {
     "slide_type": "subslide"
    }
   },
   "source": [
    "## Plan for Teams:\n",
    "\n",
    "- We are using MS Teams to organize classes. Each class is a team. \n",
    "- When you have formed a group, you'll get your own permanent channel.\n",
    "    - Write your teamname and members in \"generel\".  \n",
    "- If you need help write your teamname in the \"help thread\" in \"generel\". \n",
    "    - I will join your room once it is your turn. \n",
    "- Found a cool way to solve a specific problem or just have a generel question?\n",
    "   - Write it in \"generel\"\n",
    "- There will likely be a lot of difficulties once we get started. Therefore, please help each other out! "
   ]
  },
  {
   "cell_type": "markdown",
   "metadata": {
    "slideshow": {
     "slide_type": "subslide"
    }
   },
   "source": [
    "## Getting help\n",
    "\n",
    "* Don't feel sad. We all make mistakes or forget the correct syntax when programming. \n",
    "\n",
    "* However, make sure to get comfortable with code documentation and actively use Google. \n",
    "    - Most of the time another person have encoutered the same problem as you. \n",
    "\n",
    "* If you run into any problems you can't solve or seem to understand please request my help"
   ]
  },
  {
   "cell_type": "markdown",
   "metadata": {
    "slideshow": {
     "slide_type": "subslide"
    }
   },
   "source": [
    "## Exercise plan\n",
    "1. **DataCamp**\n",
    "2. DataCamp\n",
    "3. DataCamp\n",
    "4. Problem Set 1: Solving the consumer problem\n",
    "5. Problem Set 2: Finding the Walras equilibrium in a multi-agent economy \n",
    "6. Work on your inaugural project\n",
    "7. Problem Set 3: Loading and combining data from Denmark Statistics \n",
    "8. Problem Set 4: Analyzing data\n",
    "9. Work on your data project\n",
    "10. Problem Set 5: Writing your own searching and sorting algorithms \n",
    "11. Problem Set 6: Solving the Solow model\n",
    "12. Problem Set 7: Solving the consumer problem with income risk \n",
    "13. Work on your model analysis project\n",
    "14. Work on your model analysis project \n",
    "15. Feedback on model project"
   ]
  }
 ],
 "metadata": {
  "celltoolbar": "Slideshow",
  "kernelspec": {
   "display_name": "Python 3",
   "language": "python",
   "name": "python3"
  },
  "language_info": {
   "codemirror_mode": {
    "name": "ipython",
    "version": 3
   },
   "file_extension": ".py",
   "mimetype": "text/x-python",
   "name": "python",
   "nbconvert_exporter": "python",
   "pygments_lexer": "ipython3",
   "version": "3.7.6"
  }
 },
 "nbformat": 4,
 "nbformat_minor": 4
}
