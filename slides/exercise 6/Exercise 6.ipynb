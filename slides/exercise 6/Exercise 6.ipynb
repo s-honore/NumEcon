{
 "cells": [
  {
   "cell_type": "markdown",
   "id": "verified-tiffany",
   "metadata": {
    "slideshow": {
     "slide_type": "slide"
    }
   },
   "source": [
    "<img src=\"ku_logo_uk_v.png\" alt=\"drawing\" width=\"130\" style=\"float:right\"/>\n",
    "\n",
    "# <span style=\"color:#2c061f\"> Exercise 6 </span>  \n",
    "\n",
    "<br>\n",
    "\n",
    "## <span style=\"color:#374045\"> Introduction to Programming and Numerical Analysis </span>\n",
    "\n",
    "\n",
    "####  <span style=\"color:#d89216\"> <br> Sebastian Honoré </span>"
   ]
  },
  {
   "cell_type": "markdown",
   "id": "judicial-glory",
   "metadata": {
    "slideshow": {
     "slide_type": "subslide"
    }
   },
   "source": [
    "## Plan for today\n",
    "<br>\n",
    "\n",
    "1. Welcome\n",
    "2. Data project\n",
    "3. Intro to pandas\n",
    "4. Problemset 3\n",
    "\n",
    "### Information:\n",
    "- Deadline for the Data project is moved to sunday the 11.th of april! \n",
    "- Repository for slides: https://github.com/s-honore/NumEcon.git\n",
    "    - The slides requires `pip install RISE` or `conda install -c conda-forge rise` and should be opened in jupyter notebook."
   ]
  },
  {
   "cell_type": "markdown",
   "id": "incomplete-express",
   "metadata": {
    "slideshow": {
     "slide_type": "subslide"
    }
   },
   "source": [
    "# 2. Data project\n",
    "\n",
    "The Data project is very open for interpretation. Basically, find a theme, some data and do some Exploratory Data Analysis (EDA). \n",
    "\n",
    "Theme inspiration: \n",
    "- Danish foreign trade\n",
    "- Demographic changes\n",
    "- Covid-19\n",
    "- Climate & energy \n",
    "\n",
    "Whatever you choose the most important thing is to convey a story using data. "
   ]
  },
  {
   "cell_type": "markdown",
   "id": "sacred-meter",
   "metadata": {
    "slideshow": {
     "slide_type": "subslide"
    }
   },
   "source": [
    "# 2.1 Where to get data?\n",
    "\n",
    "You should import data from an online source - either through API or download $\\rightarrow$ next lecture. \n",
    "\n",
    "Data sources: \n",
    "\n",
    "- Good ol' Statistics Denmark\n",
    "- Kaggle.com\n",
    "- Tons of API's \n",
    "    - For a listing see https://github.com/public-apis/public-apis or https://apilist.fun"
   ]
  },
  {
   "cell_type": "markdown",
   "id": "integrated-cambridge",
   "metadata": {
    "slideshow": {
     "slide_type": "subslide"
    }
   },
   "source": [
    "# 2.2 Minimum requirements\n",
    "\n",
    "There will be some minimum requirements for the project. You should show in the project that you can: \n",
    "1. Apply data cleaning and data structuring methods\n",
    "2. Apply data analysis methods\n",
    "3. Structure a code project\n",
    "4. Document code\n",
    "5. Present results in text form and in figures"
   ]
  },
  {
   "cell_type": "markdown",
   "id": "innocent-picnic",
   "metadata": {
    "slideshow": {
     "slide_type": "subslide"
    }
   },
   "source": [
    "# 3 Intro to pandas\n",
    "\n",
    "Pandas is a really powerful data science library that you likely will encounter a lot. Pandas is built on top of the NumPy package, meaning a lot of the structure of NumPy is used or replicated in Pandas. \n",
    "\n",
    "The core element of Pandas is the `DataFrame`. Looks like a 'classic' dataset and can store heterogeneous tabular data. The `DataFrame` is a `Class` with many methods!  Let's import packages:"
   ]
  },
  {
   "cell_type": "code",
   "execution_count": null,
   "id": "protected-vegetarian",
   "metadata": {
    "slideshow": {
     "slide_type": "fragment"
    }
   },
   "outputs": [],
   "source": [
    "import pandas as pd\n",
    "import numpy as np"
   ]
  },
  {
   "cell_type": "markdown",
   "id": "acoustic-adoption",
   "metadata": {
    "slideshow": {
     "slide_type": "subslide"
    }
   },
   "source": [
    "# 3.1 The DataFrame\n",
    "\n",
    "DataFrames can be loaded from pre-existing data (CSV, Excel, STATA, SAS, HTML, txt etc.) or from list and dictionaries:"
   ]
  },
  {
   "cell_type": "code",
   "execution_count": null,
   "id": "together-holder",
   "metadata": {
    "slideshow": {
     "slide_type": "fragment"
    }
   },
   "outputs": [],
   "source": [
    "df = pd.DataFrame(\n",
    "            {\n",
    "                \"A\": 1.0,\n",
    "                \"B\": pd.Timestamp(\"20130102\"),\n",
    "                \"C\": pd.Series(1, index=list(range(4)), dtype=\"float32\"),\n",
    "                \"D\": np.array([3] * 4, dtype=\"int32\"),\n",
    "                \"E\": pd.Categorical([\"test\", \"train\", \"test\", \"train\"]),\n",
    "                \"F\": \"foo\",\n",
    "            }\n",
    "        )\n",
    "df"
   ]
  },
  {
   "cell_type": "markdown",
   "id": "level-cooperation",
   "metadata": {
    "slideshow": {
     "slide_type": "subslide"
    }
   },
   "source": [
    "# 3.2  Accessing columns\n",
    "Many ways to access columns:"
   ]
  },
  {
   "cell_type": "code",
   "execution_count": null,
   "id": "flying-bicycle",
   "metadata": {
    "slideshow": {
     "slide_type": "fragment"
    }
   },
   "outputs": [],
   "source": [
    "df[\"A\"]\n",
    "#df.A\n",
    "#df.loc[:,[\"A\"]]\n",
    "#df.iloc[:,0]"
   ]
  },
  {
   "cell_type": "markdown",
   "id": "exotic-syndicate",
   "metadata": {
    "slideshow": {
     "slide_type": "subslide"
    }
   },
   "source": [
    "# 3.3 Creating new columns\n",
    "You can add new columns to the DataFrame and math operations is allowed: "
   ]
  },
  {
   "cell_type": "code",
   "execution_count": null,
   "id": "significant-biography",
   "metadata": {
    "slideshow": {
     "slide_type": "fragment"
    }
   },
   "outputs": [],
   "source": [
    "df[\"G\"] = df.A / 2\n",
    "df"
   ]
  },
  {
   "cell_type": "markdown",
   "id": "treated-admission",
   "metadata": {
    "slideshow": {
     "slide_type": "subslide"
    }
   },
   "source": [
    "# 3.4 Subsetting DataFrame\n",
    "Sometimes you only need specific parts of a DataFrame. To subset often the `.loc` method is used:"
   ]
  },
  {
   "cell_type": "code",
   "execution_count": null,
   "id": "resistant-snake",
   "metadata": {
    "slideshow": {
     "slide_type": "fragment"
    }
   },
   "outputs": [],
   "source": [
    "df_sub = df.loc[df.E == \"test\"]\n",
    "df_sub\n",
    "#df_sub.reset_index(drop=True)"
   ]
  },
  {
   "cell_type": "markdown",
   "id": "detailed-sherman",
   "metadata": {
    "slideshow": {
     "slide_type": "subslide"
    }
   },
   "source": [
    "# 3.4 Subsetting continued\n",
    "Only want specific columns? Provide a list of column names: "
   ]
  },
  {
   "cell_type": "code",
   "execution_count": null,
   "id": "following-broadway",
   "metadata": {
    "slideshow": {
     "slide_type": "fragment"
    }
   },
   "outputs": [],
   "source": [
    "df_sub = df.loc[df.E==\"test\",[\"A\",\"B\",\"C\"]]\n",
    "df_sub.reset_index(drop=True)"
   ]
  },
  {
   "cell_type": "markdown",
   "id": "analyzed-catch",
   "metadata": {
    "slideshow": {
     "slide_type": "subslide"
    }
   },
   "source": [
    "# 3.5 summing up\n",
    "\n",
    "- In general, there is many methods to solve the same problem. \n",
    "- Just remember [the zen of python](https://www.python.org/dev/peps/pep-0020/). \n",
    "    - Especially, `Simple is better than complex`"
   ]
  },
  {
   "cell_type": "markdown",
   "id": "hidden-chapter",
   "metadata": {
    "slideshow": {
     "slide_type": "subslide"
    }
   },
   "source": [
    "# 4 Start learning pandas\n",
    "Time for problemset 3! \n",
    "\n",
    "Please go to your own channel and ask for help in general"
   ]
  }
 ],
 "metadata": {
  "celltoolbar": "Slideshow",
  "kernelspec": {
   "display_name": "Python 3",
   "language": "python",
   "name": "python3"
  },
  "language_info": {
   "codemirror_mode": {
    "name": "ipython",
    "version": 3
   },
   "file_extension": ".py",
   "mimetype": "text/x-python",
   "name": "python",
   "nbconvert_exporter": "python",
   "pygments_lexer": "ipython3",
   "version": "3.8.8"
  }
 },
 "nbformat": 4,
 "nbformat_minor": 5
}
