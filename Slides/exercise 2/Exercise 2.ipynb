{
 "cells": [
  {
   "cell_type": "markdown",
   "metadata": {
    "slideshow": {
     "slide_type": "slide"
    }
   },
   "source": [
    "<img src=\"ku_logo_uk_v.png\" alt=\"drawing\" width=\"130\" style=\"float:right\"/>\n",
    "\n",
    "# <span style=\"color:#2c061f\"> Exercise 2 </span>  \n",
    "\n",
    "<br>\n",
    "\n",
    "## <span style=\"color:#374045\"> Introduction to Programming and Numerical Analysis </span>\n",
    "\n",
    "\n",
    "####  <span style=\"color:#d89216\"> <br> Sebastian Honoré </span>"
   ]
  },
  {
   "cell_type": "markdown",
   "metadata": {
    "slideshow": {
     "slide_type": "subslide"
    }
   },
   "source": [
    "## Plan for today\n",
    "<br>\n",
    "\n",
    "1. Welcome\n",
    "2. Github\n",
    "3. Overview of Jupyter lab/notebook\n",
    "4. Datacamp\n",
    "\n",
    "## Important information\n",
    "\n",
    "The deadline for finishing the 4 courses on datacamp has been postponed to March 7th!"
   ]
  },
  {
   "cell_type": "markdown",
   "metadata": {
    "slideshow": {
     "slide_type": "subslide"
    }
   },
   "source": [
    "## Padlet\n",
    "\n",
    "Want me to go through something during classes? or find something hard to understand? Suggestions for exercise classes? Write it on: https://ucph.padlet.org/sebastianhonore/mqeo0l6lezrfrola. You can also upvote comments to signify their importance. \n",
    "<center>\n",
    "<img src=\"giphy.gif\" width=\"500\" align=\"center\">\n",
    "<center/>"
   ]
  },
  {
   "cell_type": "markdown",
   "metadata": {
    "slideshow": {
     "slide_type": "subslide"
    }
   },
   "source": [
    "## Github\n",
    "\n",
    "As you may already know Git is a version control system that enables programmers to coordinate their work across computers. This is a really cool system, but hard to wrap your head around. \n",
    "\n",
    "In this course we use Git to retrieve lecture notebooks and problemsets. Later on you will also have to upload your assignments on Github. \n",
    "\n",
    "I will from now on uploade exercise slides in the repo: https://github.com/s-honore/NumEcon.git"
   ]
  },
  {
   "cell_type": "markdown",
   "metadata": {
    "slideshow": {
     "slide_type": "subslide"
    }
   },
   "source": [
    "## Github in VS Code\n",
    "\n",
    "Note: We only use VS Code in this course to connect with Github\n",
    "\n",
    "1. Pres »Ctrl+Shift+P«.\n",
    "2. Write: »git: clone«\n",
    "3. Write »https://github.com/NumEconCopenhagen/lectures-2021« Or: »https://github.com/NumEconCopenhagen/exercises-2021« ⇒ the repo will be downloaded to your computer\n",
    "4. Update to the newest version of the code with »git: sync«\n",
    "5. Create a copy of the cloned folder, where you work with the code (otherwise: merge conflicts!) - Really important"
   ]
  },
  {
   "cell_type": "markdown",
   "metadata": {
    "slideshow": {
     "slide_type": "subslide"
    }
   },
   "source": [
    "## Alternative to VS Code\n",
    "\n",
    "**Github Desktop**\n",
    "- Download: https://desktop.github.com\n",
    "- Clone in Github Desktop:\n",
    "    - \"Add\" -> \"Clone Repository\" -> paste URL -> Select local path -> Clone\n",
    "- Syncronize in Github Desktop: \n",
    "    - Select repository on left hand side -> \"Fetch Origin\" "
   ]
  },
  {
   "cell_type": "markdown",
   "metadata": {
    "slideshow": {
     "slide_type": "subslide"
    }
   },
   "source": [
    "## Overview of Jupyter Lab/Notebook\n",
    "\n",
    "By now you most of you have likely only worked within the Datacamp programming environment. In practice you will work within Jupyter Lab or Jupyter Notebook. What is the difference between the two? \n",
    "\n",
    "- Jupyter Lab is a next-generation user interface. \n",
    "    - Better structured \n",
    "    - possible to have multiple notebooks open simultaneously.\n",
    "\n",
    "- Use whatever feels right for you. I personally use Jupyter Lab when programming, but Jupyter Notebook for tasks like making slides etc. "
   ]
  },
  {
   "cell_type": "markdown",
   "metadata": {
    "slideshow": {
     "slide_type": "subslide"
    }
   },
   "source": [
    "## Things to know\n",
    "Creating a new file:\n",
    "- Navigate to desired local path and press \"new\" in upper right corner -> select \"Python 3\" \n",
    "\n",
    "Jupyter consist of cells:\n",
    "- Cells can be in different modes: »Edit« or »Command«\n",
    "    - »Edit« allows you to type into the cell \n",
    "        - look for green border around the cell \n",
    "    - »Command« allows you to alter the notebook, but you can't type into the cell \n",
    "        - look for blue border\n"
   ]
  },
  {
   "cell_type": "markdown",
   "metadata": {
    "slideshow": {
     "slide_type": "subslide"
    }
   },
   "source": [
    "- To enter »Command«-mode press <kbd>ESC</kbd>\n",
    "    - Add cell above press <kbd>A</kbd>\n",
    "    - Add cell below press <kbd>B</kbd>\n",
    "    - Delete a cell press <kbd>D</kbd>+<kbd>D</kbd>\n",
    "    - Switch from typing code to markdown press <kbd>M</kbd>\n",
    "    \n",
    "- Run a cell press <kbd>Shift</kbd>+<kbd>Enter</kbd>\n",
    "- Indent <kbd>Tab</kbd>"
   ]
  },
  {
   "cell_type": "markdown",
   "metadata": {
    "slideshow": {
     "slide_type": "subslide"
    }
   },
   "source": [
    "## Jupyter Kernel\n",
    "\n",
    "In order to run a notebook Jupyter relies on a kernel. Essentially, this is just a Python Interpreter. \n",
    "It is adviseable to restart this kernel once in a while to clear memory. Why?"
   ]
  },
  {
   "cell_type": "code",
   "execution_count": 2,
   "metadata": {
    "slideshow": {
     "slide_type": "fragment"
    }
   },
   "outputs": [
    {
     "name": "stdout",
     "output_type": "stream",
     "text": [
      "20\n"
     ]
    }
   ],
   "source": [
    "#define a global variable \n",
    "X=10\n",
    "# Define simple function \n",
    "def f(X):\n",
    "    Y=X*2\n",
    "    return Y\n",
    "print(f(X))"
   ]
  },
  {
   "cell_type": "markdown",
   "metadata": {
    "slideshow": {
     "slide_type": "subslide"
    }
   },
   "source": [
    "## kernel continued\n",
    "\n",
    "You may have written a never-ending while-loop. In this case you need to interrupt the kernel. Unfortunately, no shortcut exists. Therefore, navigate to \"Kernel\" and either interrupt or restart. "
   ]
  },
  {
   "cell_type": "markdown",
   "metadata": {
    "slideshow": {
     "slide_type": "subslide"
    }
   },
   "source": [
    "## Datacamp\n",
    "\n",
    "Time to work on your courses in Datacamp. Please go to your dedicated Teams channel.\n",
    "\n",
    "Need help? Write in general channel and i will assist you. \n"
   ]
  }
 ],
 "metadata": {
  "celltoolbar": "Slideshow",
  "kernelspec": {
   "display_name": "Python 3",
   "language": "python",
   "name": "python3"
  },
  "language_info": {
   "codemirror_mode": {
    "name": "ipython",
    "version": 3
   },
   "file_extension": ".py",
   "mimetype": "text/x-python",
   "name": "python",
   "nbconvert_exporter": "python",
   "pygments_lexer": "ipython3",
   "version": "3.8.8"
  }
 },
 "nbformat": 4,
 "nbformat_minor": 4
}
