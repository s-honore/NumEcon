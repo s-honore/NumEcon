{
 "cells": [
  {
   "cell_type": "markdown",
   "id": "passive-project",
   "metadata": {
    "slideshow": {
     "slide_type": "slide"
    }
   },
   "source": [
    "<img src=\"ku_logo_uk_v.png\" alt=\"drawing\" width=\"130\" style=\"float:right\"/>\n",
    "\n",
    "# <span style=\"color:#2c061f\"> Exercise 4 </span>  \n",
    "\n",
    "<br>\n",
    "\n",
    "## <span style=\"color:#374045\"> Introduction to Programming and Numerical Analysis </span>\n",
    "\n",
    "\n",
    "####  <span style=\"color:#d89216\"> <br> Sebastian Honoré </span>"
   ]
  },
  {
   "cell_type": "markdown",
   "id": "overall-progress",
   "metadata": {
    "slideshow": {
     "slide_type": "subslide"
    }
   },
   "source": [
    "## Plan for today\n",
    "<br>\n",
    "\n",
    "1. Welcome\n",
    "2. Questionnaire on Git\n",
    "3. Inaugural project\n",
    "4. GitHub\n",
    "5. Problemset 2\n",
    "\n",
    "### Remember: \n",
    "- Repository for slides: https://github.com/s-honore/NumEcon.git"
   ]
  },
  {
   "cell_type": "markdown",
   "id": "partial-plumbing",
   "metadata": {
    "slideshow": {
     "slide_type": "subslide"
    }
   },
   "source": [
    "<img src=\"oprah-survey.gif\" width=\"500\" style=\"float:right\">\n",
    "\n",
    "# <span style=\"color:#2c061f\"> 2.1 Questionnaire </span>  \n",
    "\n",
    "<br>\n",
    "<span style=\"color:#374045\"> Questionnaire link in general  </span>\n",
    "\n",
    "<span style=\"color:#374045\"> Please take 5 min. to fill the questionnaire  </span>\n",
    "\n",
    "<span style=\"color:#374045\"> **Note: it is anonymous** </span>"
   ]
  },
  {
   "cell_type": "markdown",
   "id": "answering-minimum",
   "metadata": {
    "slideshow": {
     "slide_type": "subslide"
    }
   },
   "source": [
    "## 3.1 Inuagural project\n",
    "\n",
    "We consider the following model: \n",
    "\n",
    "<p style=\"text-align: center;\">$c^\\ast,h^\\ast = \\underset{c,h}{\\operatorname{argmax}} c^{(1-\\phi)} h^\\phi$</p>\n",
    "\n",
    "<p style=\"text-align: center;\">$s.t$</p>\n",
    "<p style=\"text-align: center;\">$\\tilde{p}_h = p_h \\epsilon$</p>\n",
    "<p style=\"text-align: center;\">$m=\\tau(p_h,\\tilde{p}_h)+c$</p>\n",
    "<p style=\"text-align: center;\">$\\tau(p_h,\\tilde{p}_h)=rp_h+\\tau^g\\tilde{p}_h+\\tau^p max\\{\\tilde{p}_h-\\bar{p},0\\}$</p>"
   ]
  },
  {
   "cell_type": "markdown",
   "id": "current-regular",
   "metadata": {
    "slideshow": {
     "slide_type": "subslide"
    }
   },
   "source": [
    "## 3.2 Inuagural project\n",
    "Implementation in Python:"
   ]
  },
  {
   "cell_type": "code",
   "execution_count": 2,
   "id": "christian-commons",
   "metadata": {
    "slideshow": {
     "slide_type": "fragment"
    }
   },
   "outputs": [],
   "source": [
    "# With model parameters in dictionary:\n",
    "\n",
    "mp ={'phi':0.3} # just add parameters to this dictionary\n",
    "\n",
    "def utility(c,h,mp):\n",
    "    return (c**(1-mp['phi']))*(h**mp['phi'])\n",
    "\n",
    "# With globals:\n",
    "phi = 0.3\n",
    "\n",
    "def utility(c,h,phi):\n",
    "    return (c**(1-phi))*(h**phi)"
   ]
  },
  {
   "cell_type": "markdown",
   "id": "better-douglas",
   "metadata": {
    "slideshow": {
     "slide_type": "fragment"
    }
   },
   "source": [
    "Anything missing in the functions?"
   ]
  },
  {
   "cell_type": "markdown",
   "id": "bacterial-deviation",
   "metadata": {
    "slideshow": {
     "slide_type": "subslide"
    }
   },
   "source": [
    "## Docstrings!\n",
    "Always remember to document your code. Else:\n",
    "<center>\n",
    "<img src=\"docstrings.jpg\" width=\"900\" align=\"center\"/>\n",
    "<center/>"
   ]
  },
  {
   "cell_type": "markdown",
   "id": "communist-house",
   "metadata": {
    "slideshow": {
     "slide_type": "subslide"
    }
   },
   "source": [
    "## Correct way to define the function: "
   ]
  },
  {
   "cell_type": "code",
   "execution_count": 3,
   "id": "compound-gnome",
   "metadata": {
    "slideshow": {
     "slide_type": "fragment"
    }
   },
   "outputs": [],
   "source": [
    "def utility(c,h,mp):\n",
    "    \"\"\" Calculates utility of chosen (consumption, housing) bundle.\n",
    "\n",
    "    Args:\n",
    "\n",
    "    c (float): consumption\n",
    "    h (float): housing \n",
    "    mp (dict): model parameters. \n",
    "\n",
    "    Returns:\n",
    "\n",
    "    (float): utility of bundle\n",
    "    \"\"\"\n",
    "    return (c**(1-mp['phi']))*(h**mp['phi'])"
   ]
  },
  {
   "cell_type": "markdown",
   "id": "third-concert",
   "metadata": {
    "slideshow": {
     "slide_type": "subslide"
    }
   },
   "source": [
    "# 3.3 model continued\n",
    "What about the taxes on housing, $\\tau(p_h,\\tilde{p}_h)$ ? Hint: set $p$ numeraire. find $\\tilde{p}$ from eq.2  and calculate taxes. Remember not to include mortgage costs. Note that when we define $p_h=h$ it implies that $\\tau(\\cdot)$ is a function of $h$ and model parameters. "
   ]
  },
  {
   "cell_type": "code",
   "execution_count": 7,
   "id": "suspended-default",
   "metadata": {
    "slideshow": {
     "slide_type": "fragment"
    }
   },
   "outputs": [],
   "source": [
    "p = 1 #numeraire \n",
    "\n",
    "def tau(h, mp, p):\n",
    "    \"\"\" Calculates total housing taxes when choosing h\n",
    "    \n",
    "    Args:\n",
    "\n",
    "        h (float): housing \n",
    "        mp (dict): model parameters. \n",
    "        p (float): price index of housing\n",
    "        \n",
    "    Returns:\n",
    "        (float): total taxes paid for a house of quality h\n",
    "    \"\"\"\n",
    "    # p_tilde = ?\n",
    "    return mp['tau_g']*p_tilde + mp['tau_p']*(max(p_tilde - mp['p_bar'], 0))"
   ]
  },
  {
   "cell_type": "markdown",
   "id": "checked-pittsburgh",
   "metadata": {
    "slideshow": {
     "slide_type": "subslide"
    }
   },
   "source": [
    "## 3.4 What's missing? \n",
    "- Total cost of housing (taxes + interest)\n",
    "- Optimal consumption given housing (and parameters...)\n",
    "- Objective function. Hint: see lecture 3, section \"Algorithm 3: Call a solver\". \n",
    "- Solver. Optimize $h$ and find implied $c,u$"
   ]
  },
  {
   "cell_type": "markdown",
   "id": "convinced-accreditation",
   "metadata": {
    "slideshow": {
     "slide_type": "subslide"
    }
   },
   "source": [
    "## 4. Let's Git It On\n",
    "- **Questionnaire results** \n",
    "- Guide on cloning a repository\n",
    "- Creating a repository\n",
    "- Upload/push to a repository"
   ]
  },
  {
   "cell_type": "markdown",
   "id": "outside-prefix",
   "metadata": {
    "slideshow": {
     "slide_type": "subslide"
    }
   },
   "source": [
    "## 4.1 Cloning a repository\n",
    "Follow the guide from course site:\n",
    "<center>\n",
    "<img src=\"git-clone-commit.gif\" width=\"900\" align=\"center\">\n",
    "</center>"
   ]
  },
  {
   "cell_type": "markdown",
   "id": "dress-publisher",
   "metadata": {
    "slideshow": {
     "slide_type": "subslide"
    }
   },
   "source": [
    "## 4.2 Creating a repository\n",
    "Follow this guide to create a repo for your group\n",
    "<center>\n",
    "<img src=\"create-repo.gif\" width=\"900\" align=\"center\">\n",
    "</center>"
   ]
  },
  {
   "cell_type": "markdown",
   "id": "fifty-circulation",
   "metadata": {},
   "source": [
    "## 4.3 Upload/push to a repository\n",
    "1. When you have created a repo clone it to your computer as usual. \n",
    "2. If one of your team members have worked in the repo do `git:sync`\n",
    "    - Downloads all changes\n",
    "3. Make some changes in the repository on your computer (add file, update a file etc.)\n",
    "4. upload changes to repo:\n",
    "\n",
    "    - run `git:commit all`\n",
    "    - Write a commit message that explains your changes (1 sentence) \n",
    "    - run `git:push`"
   ]
  },
  {
   "cell_type": "code",
   "execution_count": null,
   "id": "significant-ferry",
   "metadata": {},
   "outputs": [],
   "source": []
  }
 ],
 "metadata": {
  "celltoolbar": "Slideshow",
  "kernelspec": {
   "display_name": "Python 3",
   "language": "python",
   "name": "python3"
  },
  "language_info": {
   "codemirror_mode": {
    "name": "ipython",
    "version": 3
   },
   "file_extension": ".py",
   "mimetype": "text/x-python",
   "name": "python",
   "nbconvert_exporter": "python",
   "pygments_lexer": "ipython3",
   "version": "3.8.8"
  }
 },
 "nbformat": 4,
 "nbformat_minor": 5
}
