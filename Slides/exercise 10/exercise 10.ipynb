{
 "cells": [
  {
   "cell_type": "markdown",
   "id": "systematic-ceramic",
   "metadata": {
    "slideshow": {
     "slide_type": "slide"
    }
   },
   "source": [
    "<img src=\"ku_logo_uk_v.png\" alt=\"drawing\" width=\"130\" style=\"float:right\"/>\n",
    "\n",
    "# <span style=\"color:#2c061f\"> Exercise 10 </span>  \n",
    "\n",
    "<br>\n",
    "\n",
    "## <span style=\"color:#374045\"> Introduction to Programming and Numerical Analysis </span>\n",
    "\n",
    "\n",
    "####  <span style=\"color:#d89216\"> <br> Sebastian Honoré </span>"
   ]
  },
  {
   "cell_type": "markdown",
   "id": "historic-envelope",
   "metadata": {
    "slideshow": {
     "slide_type": "subslide"
    }
   },
   "source": [
    "## Plan for today\n",
    "<br>\n",
    "\n",
    "1. Welcome\n",
    "2. Data project revisited\n",
    "3. Linear algebra in python \n",
    "4. Solving equations analytically \n",
    "5. Problemset 6"
   ]
  },
  {
   "cell_type": "markdown",
   "id": "suburban-remains",
   "metadata": {
    "slideshow": {
     "slide_type": "subslide"
    }
   },
   "source": [
    "# 2.1 Data project revisited\n",
    "\n",
    "Overall some very nice projects! \n",
    "\n",
    "**Things to keep in mind**\n",
    "- Restart the kernel and run all cells before hand-in\n",
    "- Clear stories. Give a small introduction to the problem at hand and how you solve it. \n",
    "- [The DRY principle](https://thevaluable.dev/dry-principle-cost-benefit-example/)\n",
    "- Documentation, documentation, documentation! \n",
    "- Thoughtful plotting"
   ]
  },
  {
   "cell_type": "markdown",
   "id": "stuck-actor",
   "metadata": {
    "slideshow": {
     "slide_type": "subslide"
    }
   },
   "source": [
    "# 3.1 Linear algebra in python \n",
    "\n",
    "We can use `SciPy's` module `linalg` to perform a range of operations within the realm of linear algebra: \n",
    "\n",
    "- Basic stuff: determinant, invert, norm\n",
    "- Matrix decompositions (LU, Cholesky etc.)\n",
    "- Solve a system of equations\n",
    "- Find eigenvalues"
   ]
  },
  {
   "cell_type": "markdown",
   "id": "resident-struggle",
   "metadata": {
    "slideshow": {
     "slide_type": "subslide"
    }
   },
   "source": [
    "# 3.2 Solve a system of equations\n",
    "Lets take the module for a spin. We want to solve:\n",
    "\n",
    "$$Ax=b$$"
   ]
  },
  {
   "cell_type": "code",
   "execution_count": 34,
   "id": "changed-diabetes",
   "metadata": {
    "slideshow": {
     "slide_type": "fragment"
    }
   },
   "outputs": [
    {
     "name": "stdout",
     "output_type": "stream",
     "text": [
      "Matrix A: \n",
      "[[0.60597828 0.73336936 0.13894716 0.31267308 0.99724328]\n",
      " [0.12816238 0.17899311 0.75292543 0.66216051 0.78431013]\n",
      " [0.0968944  0.05857129 0.96239599 0.61655744 0.08662996]\n",
      " [0.56127236 0.61652471 0.96384302 0.57430429 0.37116085]\n",
      " [0.45214524 0.20185025 0.56930512 0.19509597 0.58370402]] \n",
      "\n",
      " Matrix b:\n",
      "[0.47631347 0.5178144  0.82309863 0.73222503 0.06905627]\n"
     ]
    }
   ],
   "source": [
    "import numpy as np \n",
    "from scipy import linalg\n",
    "np.random.seed(2021)\n",
    "A = np.random.uniform(size=(5,5))\n",
    "b = np.random.uniform(size=5)\n",
    "print(f'Matrix A: \\n{A} \\n\\n Matrix b:\\n{b}')"
   ]
  },
  {
   "cell_type": "markdown",
   "id": "polyphonic-spanking",
   "metadata": {
    "slideshow": {
     "slide_type": "subslide"
    }
   },
   "source": [
    "# 3.3 Solve a system of equations\n",
    "\n",
    "There are several ways we can solve this system of equations:"
   ]
  },
  {
   "cell_type": "code",
   "execution_count": 35,
   "id": "adapted-martin",
   "metadata": {
    "slideshow": {
     "slide_type": "fragment"
    }
   },
   "outputs": [
    {
     "data": {
      "text/plain": [
       "array([ 3.17983125, -1.88260751, -2.05057824,  4.3774516 , -1.15692713])"
      ]
     },
     "execution_count": 35,
     "metadata": {},
     "output_type": "execute_result"
    }
   ],
   "source": [
    "# Using LU decomposition -> decompose A into upper and lower triangular matrix and solve through substitution\n",
    "LU, piv = linalg.lu_factor(A)\n",
    "x = linalg.lu_solve((LU,piv),b)\n",
    "x"
   ]
  },
  {
   "cell_type": "code",
   "execution_count": 18,
   "id": "enhanced-kitty",
   "metadata": {
    "slideshow": {
     "slide_type": "fragment"
    }
   },
   "outputs": [
    {
     "data": {
      "text/plain": [
       "array([ 3.17983125, -1.88260751, -2.05057824,  4.3774516 , -1.15692713])"
      ]
     },
     "execution_count": 18,
     "metadata": {},
     "output_type": "execute_result"
    }
   ],
   "source": [
    "# Regular solver\n",
    "linalg.solve(A,b)"
   ]
  },
  {
   "cell_type": "markdown",
   "id": "productive-viewer",
   "metadata": {
    "slideshow": {
     "slide_type": "subslide"
    }
   },
   "source": [
    "# 3.4 Why care? \n",
    "\n",
    "Being able to solve a system of linear equations probably won't earn much street credit from your friends. However, it may come in handy. Remember the good ol' OLS equation? In case you forgot: \n",
    "\n",
    "$$\\hat{\\beta} = (X'X)^{-1}X'y$$\n",
    "\n",
    "In the 2020 exam you had to code the estimator from scratch and solve it using the functionalities of linalg. "
   ]
  },
  {
   "cell_type": "markdown",
   "id": "further-subcommittee",
   "metadata": {
    "slideshow": {
     "slide_type": "subslide"
    }
   },
   "source": [
    "# 4.1 Solving equations analytically \n",
    "Formulas and models are part of the life as an economist. `Sympy` enables us to translate these formulas into python code that we can work with - super cool! Lets see it in action:\n",
    "\n",
    "Consider a utility function from a standard OLG model. Economic agents lives two periods (young/old) and obtains utility from consumption in both periods:\n",
    "\n",
    "$$U_{i,t} = u_i(c_{i,1}) + \\frac{1}{1+\\rho}u_i(C_{i,2})$$"
   ]
  },
  {
   "cell_type": "markdown",
   "id": "quality-printing",
   "metadata": {
    "slideshow": {
     "slide_type": "subslide"
    }
   },
   "source": [
    "# 4.2 Implementation in Sympy\n",
    "For the sake of simplicity let's assume log-utility:"
   ]
  },
  {
   "cell_type": "code",
   "execution_count": 36,
   "id": "figured-toner",
   "metadata": {
    "slideshow": {
     "slide_type": "fragment"
    }
   },
   "outputs": [
    {
     "data": {
      "text/latex": [
       "$\\displaystyle \\log{\\left(C_{i1} \\right)} + \\frac{\\log{\\left(C_{i2} \\right)}}{\\rho + 1}$"
      ],
      "text/plain": [
       "log(C_i1) + log(C_i2)/(rho + 1)"
      ]
     },
     "execution_count": 36,
     "metadata": {},
     "output_type": "execute_result"
    }
   ],
   "source": [
    "import sympy as sm\n",
    "c1,c2 = sm.symbols(\"C_i1\"), sm.symbols(\"C_i2\")\n",
    "rho = sm.symbols(\"rho\")\n",
    "\n",
    "#utility\n",
    "uc1 = sm.ln(c1)\n",
    "uc2 = sm.ln(c2)\n",
    "U = uc1+1/(1+rho)*uc2\n",
    "U"
   ]
  },
  {
   "cell_type": "markdown",
   "id": "unavailable-object",
   "metadata": {
    "slideshow": {
     "slide_type": "subslide"
    }
   },
   "source": [
    "# 4.3 Sympy functionalities\n",
    "We can do a lot of stuff from here. Say we need the derivative of $U$ with respect to $C_{i,2}$"
   ]
  },
  {
   "cell_type": "code",
   "execution_count": 22,
   "id": "clinical-seven",
   "metadata": {
    "slideshow": {
     "slide_type": "fragment"
    }
   },
   "outputs": [
    {
     "data": {
      "text/latex": [
       "$\\displaystyle \\frac{1}{C_{i2} \\left(\\rho + 1\\right)}$"
      ],
      "text/plain": [
       "1/(C_i2*(rho + 1))"
      ]
     },
     "execution_count": 22,
     "metadata": {},
     "output_type": "execute_result"
    }
   ],
   "source": [
    "sm.diff(U,c2)"
   ]
  },
  {
   "cell_type": "markdown",
   "id": "viral-spring",
   "metadata": {
    "slideshow": {
     "slide_type": "fragment"
    }
   },
   "source": [
    "**Differentation has never been easier**"
   ]
  },
  {
   "cell_type": "markdown",
   "id": "artistic-basement",
   "metadata": {
    "slideshow": {
     "slide_type": "subslide"
    }
   },
   "source": [
    "# 4.4 Turn your formulas into functions\n",
    "A cool feature of Sympy is that you can turn your formulas into python functions. This will likely be useful in your model project:\n",
    "\n",
    "- Solve model analytically with Sympy\n",
    "- Convert solution into python function e.g. the law-of-motion in the OLG model\n",
    "- Find steady state using an optimizer\n",
    "\n",
    "How is it done?"
   ]
  },
  {
   "cell_type": "markdown",
   "id": "simplified-capital",
   "metadata": {
    "slideshow": {
     "slide_type": "subslide"
    }
   },
   "source": [
    "# 4.5 Functions in Sympy\n",
    " \n",
    "Use the `Lambdify` method which takes a function and an iterable as argument. In our case the function is utility and the iterable is consumption: "
   ]
  },
  {
   "cell_type": "code",
   "execution_count": 37,
   "id": "judicial-skirt",
   "metadata": {
    "slideshow": {
     "slide_type": "fragment"
    }
   },
   "outputs": [
    {
     "name": "stdout",
     "output_type": "stream",
     "text": [
      "Utility for C1=10, C2=5 and rho=0.1: 3.77\n"
     ]
    }
   ],
   "source": [
    "util = sm.lambdify((c1,c2,rho),U)\n",
    "\n",
    "print(f'Utility for C1=10, C2=5 and rho=0.1: {util(10,5,0.1):.2f}')"
   ]
  },
  {
   "cell_type": "markdown",
   "id": "grave-nitrogen",
   "metadata": {
    "slideshow": {
     "slide_type": "subslide"
    }
   },
   "source": [
    "# 5 Problemset 6\n",
    "\n",
    "Your turn to work with `linalg` and `SymPy`. Please go to your channels. "
   ]
  }
 ],
 "metadata": {
  "celltoolbar": "Slideshow",
  "kernelspec": {
   "display_name": "Python 3",
   "language": "python",
   "name": "python3"
  },
  "language_info": {
   "codemirror_mode": {
    "name": "ipython",
    "version": 3
   },
   "file_extension": ".py",
   "mimetype": "text/x-python",
   "name": "python",
   "nbconvert_exporter": "python",
   "pygments_lexer": "ipython3",
   "version": "3.8.8"
  }
 },
 "nbformat": 4,
 "nbformat_minor": 5
}
